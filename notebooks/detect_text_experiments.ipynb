{
 "cells": [
  {
   "cell_type": "code",
   "id": "initial_id",
   "metadata": {
    "collapsed": true,
    "ExecuteTime": {
     "end_time": "2025-05-04T00:56:04.549322Z",
     "start_time": "2025-05-04T00:56:04.511839Z"
    }
   },
   "source": [
    "# Detección de texto generado por IA\n",
    "\n",
    "# Este notebook explora el uso de modelos preentrenados para identificar si un texto fue generado por humanos o por un modelo de lenguaje.\n"
   ],
   "outputs": [],
   "execution_count": 4
  },
  {
   "metadata": {
    "ExecuteTime": {
     "end_time": "2025-05-04T00:58:23.207869Z",
     "start_time": "2025-05-04T00:58:23.155498Z"
    }
   },
   "cell_type": "code",
   "source": [
    "from transformers import AutoTokenizer, AutoModelForSequenceClassification\n",
    "import torch\n",
    "import torch.nn.functional as F\n",
    "import matplotlib.pyplot as plt\n",
    "\n"
   ],
   "id": "c389ab34b82ed95d",
   "outputs": [],
   "execution_count": 7
  },
  {
   "metadata": {
    "ExecuteTime": {
     "end_time": "2025-05-04T00:58:25.852015Z",
     "start_time": "2025-05-04T00:58:24.819413Z"
    }
   },
   "cell_type": "code",
   "source": [
    "model_name = \"openai-community/roberta-base-openai-detector\"\n",
    "tokenizer = AutoTokenizer.from_pretrained(model_name)\n",
    "model = AutoModelForSequenceClassification.from_pretrained(model_name)\n",
    "\n"
   ],
   "id": "3fc318ee6840e36a",
   "outputs": [
    {
     "name": "stderr",
     "output_type": "stream",
     "text": [
      "Some weights of the model checkpoint at openai-community/roberta-base-openai-detector were not used when initializing RobertaForSequenceClassification: ['roberta.pooler.dense.bias', 'roberta.pooler.dense.weight']\n",
      "- This IS expected if you are initializing RobertaForSequenceClassification from the checkpoint of a model trained on another task or with another architecture (e.g. initializing a BertForSequenceClassification model from a BertForPreTraining model).\n",
      "- This IS NOT expected if you are initializing RobertaForSequenceClassification from the checkpoint of a model that you expect to be exactly identical (initializing a BertForSequenceClassification model from a BertForSequenceClassification model).\n"
     ]
    }
   ],
   "execution_count": 8
  },
  {
   "metadata": {
    "ExecuteTime": {
     "end_time": "2025-05-04T00:58:29.638732Z",
     "start_time": "2025-05-04T00:58:29.628276Z"
    }
   },
   "cell_type": "code",
   "source": [
    "def detect_ai_text(text):\n",
    "    inputs = tokenizer(text, return_tensors=\"pt\", truncation=True, max_length=512)\n",
    "    with torch.no_grad():\n",
    "        outputs = model(**inputs)\n",
    "        probs = F.softmax(outputs.logits, dim=-1)\n",
    "    return {\n",
    "        \"Real\": probs[0][0].item(),\n",
    "        \"Fake\": probs[0][1].item()\n",
    "    }\n"
   ],
   "id": "4e92aa4317c335c5",
   "outputs": [],
   "execution_count": 9
  },
  {
   "metadata": {
    "ExecuteTime": {
     "end_time": "2025-05-04T01:24:29.979910Z",
     "start_time": "2025-05-04T01:24:29.036286Z"
    }
   },
   "cell_type": "code",
   "source": [
    "text = \"El impacto del cambio climático es un tema de creciente preocupación a nivel mundial. Las emisiones de gases de efecto invernadero han provocado un aumento sostenido de las temperaturas globales, lo que conlleva una serie de consecuencias ambientales, económicas y sociales. Para mitigar estos efectos, es esencial implementar políticas públicas efectivas y fomentar la cooperación internacional.\"\n",
    "result = detect_ai_text(text)\n",
    "print(\"Texto:\", text)\n",
    "print(\"Probabilidad de texto humano (Real):\", result[\"Real\"])\n",
    "print(\"Probabilidad de texto generado por IA (Fake):\", result[\"Fake\"])\n"
   ],
   "id": "197ce57aa4ef5361",
   "outputs": [
    {
     "name": "stdout",
     "output_type": "stream",
     "text": [
      "Texto: El impacto del cambio climático es un tema de creciente preocupación a nivel mundial. Las emisiones de gases de efecto invernadero han provocado un aumento sostenido de las temperaturas globales, lo que conlleva una serie de consecuencias ambientales, económicas y sociales. Para mitigar estos efectos, es esencial implementar políticas públicas efectivas y fomentar la cooperación internacional.\n",
      "Probabilidad de texto humano (Real): 0.00017154814850073308\n",
      "Probabilidad de texto generado por IA (Fake): 0.9998284578323364\n"
     ]
    }
   ],
   "execution_count": 20
  },
  {
   "metadata": {
    "ExecuteTime": {
     "end_time": "2025-05-04T01:24:32.299756Z",
     "start_time": "2025-05-04T01:24:32.211239Z"
    }
   },
   "cell_type": "code",
   "source": [
    "labels = ['Humano', 'IA']\n",
    "values = [result[\"Real\"], result[\"Fake\"]]\n",
    "\n",
    "plt.figure(figsize=(6, 4))\n",
    "bars = plt.bar(labels, values, color=[\"skyblue\", \"salmon\"])\n",
    "plt.ylim(0, 1)\n",
    "plt.title(\"Probabilidad de origen del texto\")\n",
    "plt.ylabel(\"Probabilidad\")\n",
    "plt.grid(axis=\"y\", linestyle=\"--\", alpha=0.7)\n",
    "\n",
    "for bar in bars:\n",
    "    yval = bar.get_height()\n",
    "    plt.text(bar.get_x() + bar.get_width()/2.0, yval + 0.02, f\"{yval:.2f}\", ha='center', va='bottom')\n",
    "\n",
    "plt.show()\n"
   ],
   "id": "d0b7b7ca1da18c33",
   "outputs": [
    {
     "data": {
      "text/plain": [
       "<Figure size 600x400 with 1 Axes>"
      ],
      "image/png": "[encoded data removed]"
     },
     "metadata": {},
     "output_type": "display_data"
    }
   ],
   "execution_count": 21
  }
 ],
 "metadata": {
  "kernelspec": {
   "display_name": "Python 3",
   "language": "python",
   "name": "python3"
  },
  "language_info": {
   "codemirror_mode": {
    "name": "ipython",
    "version": 2
   },
   "file_extension": ".py",
   "mimetype": "text/x-python",
   "name": "python",
   "nbconvert_exporter": "python",
   "pygments_lexer": "ipython2",
   "version": "2.7.6"
  }
 },
 "nbformat": 4,
 "nbformat_minor": 5
}
